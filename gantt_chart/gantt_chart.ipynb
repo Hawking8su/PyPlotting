{
 "cells": [
  {
   "cell_type": "markdown",
   "metadata": {
    "collapsed": true,
    "pycharm": {
     "name": "#%% md\n"
    }
   },
   "source": [
    "# Gantt 甘特图\n",
    "\n",
    "需求背景：工作中需要分析基线任务中的效率瓶颈任务\n",
    "\n",
    "甘特图可以直观的看到执行时间长的任务、多个任务堆积的时段。\n",
    "\n",
    "下面用两种方法在Python中画甘特图：\n",
    "1. plotly库\n",
    "2. matplotlib库\n",
    "\n",
    "参考资料：\n",
    "1. [Gantt charts with Python’s Matplotlib](https://towardsdatascience.com/gantt-charts-with-pythons-matplotlib-395b7af72d72)\n",
    "2. [Gantt charts with Python’s Matplotlib-Github](https://gist.github.com/Thiagobc23/fc12c3c69fbb90ac64b594f2c3641fcf)\n",
    "3. [Gantt Charts in Python with plotly](https://plotly.com/python/gantt/#:~:text=A%20Gantt%20chart%20is%20a,the%20duration%20of%20each%20activity.)"
   ]
  },
  {
   "cell_type": "code",
   "execution_count": 7,
   "outputs": [],
   "source": [
    "import pandas as pd\n",
    "import numpy as np\n",
    "from pandas import Timestamp\n"
   ],
   "metadata": {
    "collapsed": false,
    "pycharm": {
     "name": "#%%\n"
    }
   }
  },
  {
   "cell_type": "markdown",
   "source": [
    "## 1. 准备数据"
   ],
   "metadata": {
    "collapsed": false,
    "pycharm": {
     "name": "#%% md\n"
    }
   }
  },
  {
   "cell_type": "code",
   "execution_count": null,
   "outputs": [],
   "source": [
    "### 准备样例数据\n",
    "data = {'Task': {0: 'TSK M',\n",
    "                 1: 'TSK N',\n",
    "                 2: 'TSK L',\n",
    "                 3: 'TSK K',\n",
    "                 4: 'TSK J',\n",
    "                 5: 'TSK H',\n",
    "                 6: 'TSK I',\n",
    "                 7: 'TSK G',\n",
    "                 8: 'TSK F',\n",
    "                 9: 'TSK E',\n",
    "                 10: 'TSK D',\n",
    "                 11: 'TSK C',\n",
    "                 12: 'TSK B',\n",
    "                 13: 'TSK A'},\n",
    "\n",
    " 'Department': {0: 'IT',\n",
    "                1: 'MKT',\n",
    "                2: 'ENG',\n",
    "                3: 'PROD',\n",
    "                4: 'PROD',\n",
    "                5: 'FIN',\n",
    "                6: 'MKT',\n",
    "                7: 'FIN',\n",
    "                8: 'MKT',\n",
    "                9: 'ENG',\n",
    "                10: 'FIN',\n",
    "                11: 'IT',\n",
    "                12: 'MKT',\n",
    "                13: 'MKT'},\n",
    "\n",
    " 'Start': {0: Timestamp('2022-03-17 00:00:00'),\n",
    "           1: Timestamp('2022-03-17 00:00:00'),\n",
    "           2: Timestamp('2022-03-10 00:00:00'),\n",
    "           3: Timestamp('2022-03-09 00:00:00'),\n",
    "           4: Timestamp('2022-03-04 00:00:00'),\n",
    "           5: Timestamp('2022-02-28 00:00:00'),\n",
    "           6: Timestamp('2022-02-28 00:00:00'),\n",
    "           7: Timestamp('2022-02-27 00:00:00'),\n",
    "           8: Timestamp('2022-02-26 00:00:00'),\n",
    "           9: Timestamp('2022-02-23 00:00:00'),\n",
    "           10: Timestamp('2022-02-22 00:00:00'),\n",
    "           11: Timestamp('2022-02-21 00:00:00'),\n",
    "           12: Timestamp('2022-02-19 00:00:00'),\n",
    "           13: Timestamp('2022-02-15 00:00:00')},\n",
    "\n",
    " 'End': {0: Timestamp('2022-03-20 00:00:00'),\n",
    "         1: Timestamp('2022-03-19 00:00:00'),\n",
    "         2: Timestamp('2022-03-13 00:00:00'),\n",
    "         3: Timestamp('2022-03-13 00:00:00'),\n",
    "         4: Timestamp('2022-03-17 00:00:00'),\n",
    "         5: Timestamp('2022-03-02 00:00:00'),\n",
    "         6: Timestamp('2022-03-05 00:00:00'),\n",
    "         7: Timestamp('2022-03-03 00:00:00'),\n",
    "         8: Timestamp('2022-02-27 00:00:00'),\n",
    "         9: Timestamp('2022-03-09 00:00:00'),\n",
    "         10: Timestamp('2022-03-01 00:00:00'),\n",
    "         11: Timestamp('2022-03-03 00:00:00'),\n",
    "         12: Timestamp('2022-02-24 00:00:00'),\n",
    "         13: Timestamp('2022-02-20 00:00:00')},\n",
    "}"
   ],
   "metadata": {
    "collapsed": false,
    "pycharm": {
     "name": "#%%\n"
    }
   }
  },
  {
   "cell_type": "code",
   "source": [
    "df = pd.DataFrame(data)\n",
    "df.head()\n"
   ],
   "metadata": {
    "collapsed": false,
    "pycharm": {
     "name": "#%%\n"
    }
   },
   "execution_count": 9,
   "outputs": [
    {
     "data": {
      "text/plain": "    Task Department      Start        End\n0  TSK M         IT 2022-03-17 2022-03-20\n1  TSK N        MKT 2022-03-17 2022-03-19\n2  TSK L        ENG 2022-03-10 2022-03-13\n3  TSK K       PROD 2022-03-09 2022-03-13\n4  TSK J       PROD 2022-03-04 2022-03-17",
      "text/html": "<div>\n<style scoped>\n    .dataframe tbody tr th:only-of-type {\n        vertical-align: middle;\n    }\n\n    .dataframe tbody tr th {\n        vertical-align: top;\n    }\n\n    .dataframe thead th {\n        text-align: right;\n    }\n</style>\n<table border=\"1\" class=\"dataframe\">\n  <thead>\n    <tr style=\"text-align: right;\">\n      <th></th>\n      <th>Task</th>\n      <th>Department</th>\n      <th>Start</th>\n      <th>End</th>\n    </tr>\n  </thead>\n  <tbody>\n    <tr>\n      <th>0</th>\n      <td>TSK M</td>\n      <td>IT</td>\n      <td>2022-03-17</td>\n      <td>2022-03-20</td>\n    </tr>\n    <tr>\n      <th>1</th>\n      <td>TSK N</td>\n      <td>MKT</td>\n      <td>2022-03-17</td>\n      <td>2022-03-19</td>\n    </tr>\n    <tr>\n      <th>2</th>\n      <td>TSK L</td>\n      <td>ENG</td>\n      <td>2022-03-10</td>\n      <td>2022-03-13</td>\n    </tr>\n    <tr>\n      <th>3</th>\n      <td>TSK K</td>\n      <td>PROD</td>\n      <td>2022-03-09</td>\n      <td>2022-03-13</td>\n    </tr>\n    <tr>\n      <th>4</th>\n      <td>TSK J</td>\n      <td>PROD</td>\n      <td>2022-03-04</td>\n      <td>2022-03-17</td>\n    </tr>\n  </tbody>\n</table>\n</div>"
     },
     "execution_count": 9,
     "metadata": {},
     "output_type": "execute_result"
    }
   ]
  },
  {
   "cell_type": "markdown",
   "source": [
    "## 2.画图\n",
    "### 2.1 使用plotly"
   ],
   "metadata": {
    "collapsed": false,
    "pycharm": {
     "name": "#%% md\n"
    }
   }
  },
  {
   "cell_type": "code",
   "execution_count": 10,
   "outputs": [
    {
     "data": {
      "application/vnd.plotly.v1+json": {
       "data": [
        {
         "alignmentgroup": "True",
         "base": [
          "2022-03-17T00:00:00",
          "2022-02-21T00:00:00"
         ],
         "hovertemplate": "Department=IT<br>Start=%{base}<br>End=%{x}<br>Task=%{y}<extra></extra>",
         "legendgroup": "IT",
         "marker": {
          "color": "#636efa"
         },
         "name": "IT",
         "offsetgroup": "IT",
         "orientation": "h",
         "showlegend": true,
         "textposition": "auto",
         "x": [
          2.592E8,
          8.64E8
         ],
         "xaxis": "x",
         "y": [
          "TSK M",
          "TSK C"
         ],
         "yaxis": "y",
         "type": "bar"
        },
        {
         "alignmentgroup": "True",
         "base": [
          "2022-03-17T00:00:00",
          "2022-02-28T00:00:00",
          "2022-02-26T00:00:00",
          "2022-02-19T00:00:00",
          "2022-02-15T00:00:00"
         ],
         "hovertemplate": "Department=MKT<br>Start=%{base}<br>End=%{x}<br>Task=%{y}<extra></extra>",
         "legendgroup": "MKT",
         "marker": {
          "color": "#EF553B"
         },
         "name": "MKT",
         "offsetgroup": "MKT",
         "orientation": "h",
         "showlegend": true,
         "textposition": "auto",
         "x": [
          1.728E8,
          4.32E8,
          8.64E7,
          4.32E8,
          4.32E8
         ],
         "xaxis": "x",
         "y": [
          "TSK N",
          "TSK I",
          "TSK F",
          "TSK B",
          "TSK A"
         ],
         "yaxis": "y",
         "type": "bar"
        },
        {
         "alignmentgroup": "True",
         "base": [
          "2022-03-10T00:00:00",
          "2022-02-23T00:00:00"
         ],
         "hovertemplate": "Department=ENG<br>Start=%{base}<br>End=%{x}<br>Task=%{y}<extra></extra>",
         "legendgroup": "ENG",
         "marker": {
          "color": "#00cc96"
         },
         "name": "ENG",
         "offsetgroup": "ENG",
         "orientation": "h",
         "showlegend": true,
         "textposition": "auto",
         "x": [
          2.592E8,
          1.2096E9
         ],
         "xaxis": "x",
         "y": [
          "TSK L",
          "TSK E"
         ],
         "yaxis": "y",
         "type": "bar"
        },
        {
         "alignmentgroup": "True",
         "base": [
          "2022-03-09T00:00:00",
          "2022-03-04T00:00:00"
         ],
         "hovertemplate": "Department=PROD<br>Start=%{base}<br>End=%{x}<br>Task=%{y}<extra></extra>",
         "legendgroup": "PROD",
         "marker": {
          "color": "#ab63fa"
         },
         "name": "PROD",
         "offsetgroup": "PROD",
         "orientation": "h",
         "showlegend": true,
         "textposition": "auto",
         "x": [
          3.456E8,
          1.1232E9
         ],
         "xaxis": "x",
         "y": [
          "TSK K",
          "TSK J"
         ],
         "yaxis": "y",
         "type": "bar"
        },
        {
         "alignmentgroup": "True",
         "base": [
          "2022-02-28T00:00:00",
          "2022-02-27T00:00:00",
          "2022-02-22T00:00:00"
         ],
         "hovertemplate": "Department=FIN<br>Start=%{base}<br>End=%{x}<br>Task=%{y}<extra></extra>",
         "legendgroup": "FIN",
         "marker": {
          "color": "#FFA15A"
         },
         "name": "FIN",
         "offsetgroup": "FIN",
         "orientation": "h",
         "showlegend": true,
         "textposition": "auto",
         "x": [
          1.728E8,
          3.456E8,
          6.048E8
         ],
         "xaxis": "x",
         "y": [
          "TSK H",
          "TSK G",
          "TSK D"
         ],
         "yaxis": "y",
         "type": "bar"
        }
       ],
       "layout": {
        "template": {
         "data": {
          "histogram2dcontour": [
           {
            "type": "histogram2dcontour",
            "colorbar": {
             "outlinewidth": 0,
             "ticks": ""
            },
            "colorscale": [
             [
              0.0,
              "#0d0887"
             ],
             [
              0.1111111111111111,
              "#46039f"
             ],
             [
              0.2222222222222222,
              "#7201a8"
             ],
             [
              0.3333333333333333,
              "#9c179e"
             ],
             [
              0.4444444444444444,
              "#bd3786"
             ],
             [
              0.5555555555555556,
              "#d8576b"
             ],
             [
              0.6666666666666666,
              "#ed7953"
             ],
             [
              0.7777777777777778,
              "#fb9f3a"
             ],
             [
              0.8888888888888888,
              "#fdca26"
             ],
             [
              1.0,
              "#f0f921"
             ]
            ]
           }
          ],
          "choropleth": [
           {
            "type": "choropleth",
            "colorbar": {
             "outlinewidth": 0,
             "ticks": ""
            }
           }
          ],
          "histogram2d": [
           {
            "type": "histogram2d",
            "colorbar": {
             "outlinewidth": 0,
             "ticks": ""
            },
            "colorscale": [
             [
              0.0,
              "#0d0887"
             ],
             [
              0.1111111111111111,
              "#46039f"
             ],
             [
              0.2222222222222222,
              "#7201a8"
             ],
             [
              0.3333333333333333,
              "#9c179e"
             ],
             [
              0.4444444444444444,
              "#bd3786"
             ],
             [
              0.5555555555555556,
              "#d8576b"
             ],
             [
              0.6666666666666666,
              "#ed7953"
             ],
             [
              0.7777777777777778,
              "#fb9f3a"
             ],
             [
              0.8888888888888888,
              "#fdca26"
             ],
             [
              1.0,
              "#f0f921"
             ]
            ]
           }
          ],
          "heatmap": [
           {
            "type": "heatmap",
            "colorbar": {
             "outlinewidth": 0,
             "ticks": ""
            },
            "colorscale": [
             [
              0.0,
              "#0d0887"
             ],
             [
              0.1111111111111111,
              "#46039f"
             ],
             [
              0.2222222222222222,
              "#7201a8"
             ],
             [
              0.3333333333333333,
              "#9c179e"
             ],
             [
              0.4444444444444444,
              "#bd3786"
             ],
             [
              0.5555555555555556,
              "#d8576b"
             ],
             [
              0.6666666666666666,
              "#ed7953"
             ],
             [
              0.7777777777777778,
              "#fb9f3a"
             ],
             [
              0.8888888888888888,
              "#fdca26"
             ],
             [
              1.0,
              "#f0f921"
             ]
            ]
           }
          ],
          "heatmapgl": [
           {
            "type": "heatmapgl",
            "colorbar": {
             "outlinewidth": 0,
             "ticks": ""
            },
            "colorscale": [
             [
              0.0,
              "#0d0887"
             ],
             [
              0.1111111111111111,
              "#46039f"
             ],
             [
              0.2222222222222222,
              "#7201a8"
             ],
             [
              0.3333333333333333,
              "#9c179e"
             ],
             [
              0.4444444444444444,
              "#bd3786"
             ],
             [
              0.5555555555555556,
              "#d8576b"
             ],
             [
              0.6666666666666666,
              "#ed7953"
             ],
             [
              0.7777777777777778,
              "#fb9f3a"
             ],
             [
              0.8888888888888888,
              "#fdca26"
             ],
             [
              1.0,
              "#f0f921"
             ]
            ]
           }
          ],
          "contourcarpet": [
           {
            "type": "contourcarpet",
            "colorbar": {
             "outlinewidth": 0,
             "ticks": ""
            }
           }
          ],
          "contour": [
           {
            "type": "contour",
            "colorbar": {
             "outlinewidth": 0,
             "ticks": ""
            },
            "colorscale": [
             [
              0.0,
              "#0d0887"
             ],
             [
              0.1111111111111111,
              "#46039f"
             ],
             [
              0.2222222222222222,
              "#7201a8"
             ],
             [
              0.3333333333333333,
              "#9c179e"
             ],
             [
              0.4444444444444444,
              "#bd3786"
             ],
             [
              0.5555555555555556,
              "#d8576b"
             ],
             [
              0.6666666666666666,
              "#ed7953"
             ],
             [
              0.7777777777777778,
              "#fb9f3a"
             ],
             [
              0.8888888888888888,
              "#fdca26"
             ],
             [
              1.0,
              "#f0f921"
             ]
            ]
           }
          ],
          "surface": [
           {
            "type": "surface",
            "colorbar": {
             "outlinewidth": 0,
             "ticks": ""
            },
            "colorscale": [
             [
              0.0,
              "#0d0887"
             ],
             [
              0.1111111111111111,
              "#46039f"
             ],
             [
              0.2222222222222222,
              "#7201a8"
             ],
             [
              0.3333333333333333,
              "#9c179e"
             ],
             [
              0.4444444444444444,
              "#bd3786"
             ],
             [
              0.5555555555555556,
              "#d8576b"
             ],
             [
              0.6666666666666666,
              "#ed7953"
             ],
             [
              0.7777777777777778,
              "#fb9f3a"
             ],
             [
              0.8888888888888888,
              "#fdca26"
             ],
             [
              1.0,
              "#f0f921"
             ]
            ]
           }
          ],
          "mesh3d": [
           {
            "type": "mesh3d",
            "colorbar": {
             "outlinewidth": 0,
             "ticks": ""
            }
           }
          ],
          "scatter": [
           {
            "fillpattern": {
             "fillmode": "overlay",
             "size": 10,
             "solidity": 0.2
            },
            "type": "scatter"
           }
          ],
          "parcoords": [
           {
            "type": "parcoords",
            "line": {
             "colorbar": {
              "outlinewidth": 0,
              "ticks": ""
             }
            }
           }
          ],
          "scatterpolargl": [
           {
            "type": "scatterpolargl",
            "marker": {
             "colorbar": {
              "outlinewidth": 0,
              "ticks": ""
             }
            }
           }
          ],
          "bar": [
           {
            "error_x": {
             "color": "#2a3f5f"
            },
            "error_y": {
             "color": "#2a3f5f"
            },
            "marker": {
             "line": {
              "color": "#E5ECF6",
              "width": 0.5
             },
             "pattern": {
              "fillmode": "overlay",
              "size": 10,
              "solidity": 0.2
             }
            },
            "type": "bar"
           }
          ],
          "scattergeo": [
           {
            "type": "scattergeo",
            "marker": {
             "colorbar": {
              "outlinewidth": 0,
              "ticks": ""
             }
            }
           }
          ],
          "scatterpolar": [
           {
            "type": "scatterpolar",
            "marker": {
             "colorbar": {
              "outlinewidth": 0,
              "ticks": ""
             }
            }
           }
          ],
          "histogram": [
           {
            "marker": {
             "pattern": {
              "fillmode": "overlay",
              "size": 10,
              "solidity": 0.2
             }
            },
            "type": "histogram"
           }
          ],
          "scattergl": [
           {
            "type": "scattergl",
            "marker": {
             "colorbar": {
              "outlinewidth": 0,
              "ticks": ""
             }
            }
           }
          ],
          "scatter3d": [
           {
            "type": "scatter3d",
            "line": {
             "colorbar": {
              "outlinewidth": 0,
              "ticks": ""
             }
            },
            "marker": {
             "colorbar": {
              "outlinewidth": 0,
              "ticks": ""
             }
            }
           }
          ],
          "scattermapbox": [
           {
            "type": "scattermapbox",
            "marker": {
             "colorbar": {
              "outlinewidth": 0,
              "ticks": ""
             }
            }
           }
          ],
          "scatterternary": [
           {
            "type": "scatterternary",
            "marker": {
             "colorbar": {
              "outlinewidth": 0,
              "ticks": ""
             }
            }
           }
          ],
          "scattercarpet": [
           {
            "type": "scattercarpet",
            "marker": {
             "colorbar": {
              "outlinewidth": 0,
              "ticks": ""
             }
            }
           }
          ],
          "carpet": [
           {
            "aaxis": {
             "endlinecolor": "#2a3f5f",
             "gridcolor": "white",
             "linecolor": "white",
             "minorgridcolor": "white",
             "startlinecolor": "#2a3f5f"
            },
            "baxis": {
             "endlinecolor": "#2a3f5f",
             "gridcolor": "white",
             "linecolor": "white",
             "minorgridcolor": "white",
             "startlinecolor": "#2a3f5f"
            },
            "type": "carpet"
           }
          ],
          "table": [
           {
            "cells": {
             "fill": {
              "color": "#EBF0F8"
             },
             "line": {
              "color": "white"
             }
            },
            "header": {
             "fill": {
              "color": "#C8D4E3"
             },
             "line": {
              "color": "white"
             }
            },
            "type": "table"
           }
          ],
          "barpolar": [
           {
            "marker": {
             "line": {
              "color": "#E5ECF6",
              "width": 0.5
             },
             "pattern": {
              "fillmode": "overlay",
              "size": 10,
              "solidity": 0.2
             }
            },
            "type": "barpolar"
           }
          ],
          "pie": [
           {
            "automargin": true,
            "type": "pie"
           }
          ]
         },
         "layout": {
          "autotypenumbers": "strict",
          "colorway": [
           "#636efa",
           "#EF553B",
           "#00cc96",
           "#ab63fa",
           "#FFA15A",
           "#19d3f3",
           "#FF6692",
           "#B6E880",
           "#FF97FF",
           "#FECB52"
          ],
          "font": {
           "color": "#2a3f5f"
          },
          "hovermode": "closest",
          "hoverlabel": {
           "align": "left"
          },
          "paper_bgcolor": "white",
          "plot_bgcolor": "#E5ECF6",
          "polar": {
           "bgcolor": "#E5ECF6",
           "angularaxis": {
            "gridcolor": "white",
            "linecolor": "white",
            "ticks": ""
           },
           "radialaxis": {
            "gridcolor": "white",
            "linecolor": "white",
            "ticks": ""
           }
          },
          "ternary": {
           "bgcolor": "#E5ECF6",
           "aaxis": {
            "gridcolor": "white",
            "linecolor": "white",
            "ticks": ""
           },
           "baxis": {
            "gridcolor": "white",
            "linecolor": "white",
            "ticks": ""
           },
           "caxis": {
            "gridcolor": "white",
            "linecolor": "white",
            "ticks": ""
           }
          },
          "coloraxis": {
           "colorbar": {
            "outlinewidth": 0,
            "ticks": ""
           }
          },
          "colorscale": {
           "sequential": [
            [
             0.0,
             "#0d0887"
            ],
            [
             0.1111111111111111,
             "#46039f"
            ],
            [
             0.2222222222222222,
             "#7201a8"
            ],
            [
             0.3333333333333333,
             "#9c179e"
            ],
            [
             0.4444444444444444,
             "#bd3786"
            ],
            [
             0.5555555555555556,
             "#d8576b"
            ],
            [
             0.6666666666666666,
             "#ed7953"
            ],
            [
             0.7777777777777778,
             "#fb9f3a"
            ],
            [
             0.8888888888888888,
             "#fdca26"
            ],
            [
             1.0,
             "#f0f921"
            ]
           ],
           "sequentialminus": [
            [
             0.0,
             "#0d0887"
            ],
            [
             0.1111111111111111,
             "#46039f"
            ],
            [
             0.2222222222222222,
             "#7201a8"
            ],
            [
             0.3333333333333333,
             "#9c179e"
            ],
            [
             0.4444444444444444,
             "#bd3786"
            ],
            [
             0.5555555555555556,
             "#d8576b"
            ],
            [
             0.6666666666666666,
             "#ed7953"
            ],
            [
             0.7777777777777778,
             "#fb9f3a"
            ],
            [
             0.8888888888888888,
             "#fdca26"
            ],
            [
             1.0,
             "#f0f921"
            ]
           ],
           "diverging": [
            [
             0,
             "#8e0152"
            ],
            [
             0.1,
             "#c51b7d"
            ],
            [
             0.2,
             "#de77ae"
            ],
            [
             0.3,
             "#f1b6da"
            ],
            [
             0.4,
             "#fde0ef"
            ],
            [
             0.5,
             "#f7f7f7"
            ],
            [
             0.6,
             "#e6f5d0"
            ],
            [
             0.7,
             "#b8e186"
            ],
            [
             0.8,
             "#7fbc41"
            ],
            [
             0.9,
             "#4d9221"
            ],
            [
             1,
             "#276419"
            ]
           ]
          },
          "xaxis": {
           "gridcolor": "white",
           "linecolor": "white",
           "ticks": "",
           "title": {
            "standoff": 15
           },
           "zerolinecolor": "white",
           "automargin": true,
           "zerolinewidth": 2
          },
          "yaxis": {
           "gridcolor": "white",
           "linecolor": "white",
           "ticks": "",
           "title": {
            "standoff": 15
           },
           "zerolinecolor": "white",
           "automargin": true,
           "zerolinewidth": 2
          },
          "scene": {
           "xaxis": {
            "backgroundcolor": "#E5ECF6",
            "gridcolor": "white",
            "linecolor": "white",
            "showbackground": true,
            "ticks": "",
            "zerolinecolor": "white",
            "gridwidth": 2
           },
           "yaxis": {
            "backgroundcolor": "#E5ECF6",
            "gridcolor": "white",
            "linecolor": "white",
            "showbackground": true,
            "ticks": "",
            "zerolinecolor": "white",
            "gridwidth": 2
           },
           "zaxis": {
            "backgroundcolor": "#E5ECF6",
            "gridcolor": "white",
            "linecolor": "white",
            "showbackground": true,
            "ticks": "",
            "zerolinecolor": "white",
            "gridwidth": 2
           }
          },
          "shapedefaults": {
           "line": {
            "color": "#2a3f5f"
           }
          },
          "annotationdefaults": {
           "arrowcolor": "#2a3f5f",
           "arrowhead": 0,
           "arrowwidth": 1
          },
          "geo": {
           "bgcolor": "white",
           "landcolor": "#E5ECF6",
           "subunitcolor": "white",
           "showland": true,
           "showlakes": true,
           "lakecolor": "white"
          },
          "title": {
           "x": 0.05
          },
          "mapbox": {
           "style": "light"
          }
         }
        },
        "xaxis": {
         "anchor": "y",
         "domain": [
          0.0,
          1.0
         ],
         "type": "date"
        },
        "yaxis": {
         "anchor": "x",
         "domain": [
          0.0,
          1.0
         ],
         "title": {
          "text": "Task"
         },
         "autorange": "reversed"
        },
        "legend": {
         "title": {
          "text": "Department"
         },
         "tracegroupgap": 0
        },
        "margin": {
         "t": 60
        },
        "barmode": "overlay"
       },
       "config": {
        "plotlyServerURL": "https://plot.ly"
       }
      }
     },
     "metadata": {},
     "output_type": "display_data"
    }
   ],
   "source": [
    "### 使用plotly画图\n",
    "import plotly.express as px\n",
    "\n",
    "fig = px.timeline(df, x_start=\"Start\", x_end=\"End\", y=\"Task\", color=\"Department\") # 注意同一color的task会被自动排到一起。\n",
    "fig.update_yaxes(autorange=\"reversed\") # otherwise tasks are listed from the bottom up\n",
    "fig.show()\n",
    "# fig.write_html('./image/gantt_plotly.html')"
   ],
   "metadata": {
    "collapsed": false,
    "pycharm": {
     "name": "#%%\n"
    }
   }
  },
  {
   "cell_type": "markdown",
   "source": [
    "### 2.2 使用matplotly\n",
    "\n",
    "1. 首先要做些数据处理工作"
   ],
   "metadata": {
    "collapsed": false,
    "pycharm": {
     "name": "#%% md\n"
    }
   }
  },
  {
   "cell_type": "code",
   "execution_count": 11,
   "outputs": [
    {
     "data": {
      "text/plain": "    Task Department      Start        End  start_num  end_num  \\\n0  TSK M         IT 2022-03-17 2022-03-20         30       33   \n1  TSK N        MKT 2022-03-17 2022-03-19         30       32   \n2  TSK L        ENG 2022-03-10 2022-03-13         23       26   \n3  TSK K       PROD 2022-03-09 2022-03-13         22       26   \n4  TSK J       PROD 2022-03-04 2022-03-17         17       30   \n\n   days_start_to_end    color  \n0                  3  #3475D0  \n1                  2  #E64646  \n2                  3  #34D05C  \n3                  4  #34D0C3  \n4                 13  #34D0C3  ",
      "text/html": "<div>\n<style scoped>\n    .dataframe tbody tr th:only-of-type {\n        vertical-align: middle;\n    }\n\n    .dataframe tbody tr th {\n        vertical-align: top;\n    }\n\n    .dataframe thead th {\n        text-align: right;\n    }\n</style>\n<table border=\"1\" class=\"dataframe\">\n  <thead>\n    <tr style=\"text-align: right;\">\n      <th></th>\n      <th>Task</th>\n      <th>Department</th>\n      <th>Start</th>\n      <th>End</th>\n      <th>start_num</th>\n      <th>end_num</th>\n      <th>days_start_to_end</th>\n      <th>color</th>\n    </tr>\n  </thead>\n  <tbody>\n    <tr>\n      <th>0</th>\n      <td>TSK M</td>\n      <td>IT</td>\n      <td>2022-03-17</td>\n      <td>2022-03-20</td>\n      <td>30</td>\n      <td>33</td>\n      <td>3</td>\n      <td>#3475D0</td>\n    </tr>\n    <tr>\n      <th>1</th>\n      <td>TSK N</td>\n      <td>MKT</td>\n      <td>2022-03-17</td>\n      <td>2022-03-19</td>\n      <td>30</td>\n      <td>32</td>\n      <td>2</td>\n      <td>#E64646</td>\n    </tr>\n    <tr>\n      <th>2</th>\n      <td>TSK L</td>\n      <td>ENG</td>\n      <td>2022-03-10</td>\n      <td>2022-03-13</td>\n      <td>23</td>\n      <td>26</td>\n      <td>3</td>\n      <td>#34D05C</td>\n    </tr>\n    <tr>\n      <th>3</th>\n      <td>TSK K</td>\n      <td>PROD</td>\n      <td>2022-03-09</td>\n      <td>2022-03-13</td>\n      <td>22</td>\n      <td>26</td>\n      <td>4</td>\n      <td>#34D0C3</td>\n    </tr>\n    <tr>\n      <th>4</th>\n      <td>TSK J</td>\n      <td>PROD</td>\n      <td>2022-03-04</td>\n      <td>2022-03-17</td>\n      <td>17</td>\n      <td>30</td>\n      <td>13</td>\n      <td>#34D0C3</td>\n    </tr>\n  </tbody>\n</table>\n</div>"
     },
     "execution_count": 11,
     "metadata": {},
     "output_type": "execute_result"
    }
   ],
   "source": [
    "proj_start = df.Start.min()\n",
    "df['start_num'] = (df.Start - proj_start).dt.days\n",
    "df['end_num'] = (df.End - proj_start).dt.days\n",
    "\n",
    "# days between start and end of each tasks\n",
    "df['days_start_to_end'] = df.end_num - df.start_num\n",
    "\n",
    "# create a column with the color for each department\n",
    "def color(row):\n",
    "    c_dict = {\n",
    "        'MKT':'#E64646'\n",
    "        , 'FIN':'#E69646'\n",
    "        , 'ENG':'#34D05C'\n",
    "        , 'PROD':'#34D0C3'\n",
    "        , 'IT':'#3475D0'\n",
    "    }\n",
    "    return c_dict[row['Department']]\n",
    "\n",
    "df['color'] = df.apply(color, axis=1)\n",
    "\n",
    "df.head()"
   ],
   "metadata": {
    "collapsed": false,
    "pycharm": {
     "name": "#%%\n"
    }
   }
  },
  {
   "cell_type": "markdown",
   "source": [
    "2. 使用matplotlib画图"
   ],
   "metadata": {
    "collapsed": false,
    "pycharm": {
     "name": "#%% md\n"
    }
   }
  },
  {
   "cell_type": "code",
   "execution_count": 12,
   "outputs": [
    {
     "data": {
      "text/plain": "<Figure size 1152x432 with 1 Axes>",
      "image/png": "[encoded data removed]"
     },
     "metadata": {
      "needs_background": "light"
     },
     "output_type": "display_data"
    }
   ],
   "source": [
    "import matplotlib.pyplot as plt\n",
    "from matplotlib.patches import Patch\n",
    "\n",
    "fig, ax = plt.subplots(1, figsize=(16,6))\n",
    "ax.barh(df.Task, df.days_start_to_end, left=df.start_num, color=df.color)\n",
    "\n",
    "### LEGENDS 图标\n",
    "c_dict = {'MKT':'#E64646', 'FIN':'#E69646', 'ENG':'#34D05C',\n",
    "          'PROD':'#34D0C3', 'IT':'#3475D0'}\n",
    "legend_elements = [Patch(facecolor=c_dict[i], label=i)  for i in c_dict]\n",
    "plt.legend(handles=legend_elements)\n",
    "\n",
    "### TICKS 坐标点\n",
    "xticks = np.arange(0, df.end_num.max()+1, 3)\n",
    "xticks_labels = pd.date_range(proj_start, end=df.End.max()).strftime(\"%m/%d\")\n",
    "xticks_minor = np.arange(0, df.end_num.max()+1, 1)\n",
    "ax.set_xticks(xticks)\n",
    "ax.set_xticks(xticks_minor, minor=True)\n",
    "ax.set_xticklabels(xticks_labels[::3])\n",
    "plt.show()\n",
    "# plt.savefig('./image/gantt_matplotlib.png')"
   ],
   "metadata": {
    "collapsed": false,
    "pycharm": {
     "name": "#%%\n"
    }
   }
  }
 ],
 "metadata": {
  "kernelspec": {
   "name": "python3912jvsc74a57bd0b0fa6594d8f4cbf19f97940f81e996739fb7646882a419484c72d19e05852a7e",
   "language": "python",
   "display_name": "Python 3.9.12 64-bit"
  },
  "language_info": {
   "codemirror_mode": {
    "name": "ipython",
    "version": 2
   },
   "file_extension": ".py",
   "mimetype": "text/x-python",
   "name": "python",
   "nbconvert_exporter": "python",
   "pygments_lexer": "ipython2",
   "version": "2.7.6"
  }
 },
 "nbformat": 4,
 "nbformat_minor": 0
}